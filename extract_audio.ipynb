{
 "cells": [
  {
   "cell_type": "code",
   "execution_count": 1,
   "metadata": {},
   "outputs": [],
   "source": [
    "from googletrans import Translator\n",
    "import speech_recognition as sr\n",
    "import subprocess\n",
    "import os\n",
    "from concurrent.futures import ThreadPoolExecutor\n",
    "import subprocess\n",
    "import os\n",
    "from pydub import AudioSegment\n",
    "import speech_recognition as sr\n",
    "from googletrans import Translator\n",
    "from moviepy.editor import VideoFileClip"
   ]
  },
  {
   "cell_type": "code",
   "execution_count": 2,
   "metadata": {},
   "outputs": [],
   "source": [
    "# Extract audio from video using FFmpeg\n",
    "def extract_audio(video_path, audio_path):\n",
    "    subprocess.run(['ffmpeg', '-i', video_path, '-q:a',\n",
    "                   '0', '-map', 'a', audio_path, '-n'], errors=None, capture_output=True)\n",
    "\n",
    "# Segment the audio file\n",
    "\n",
    "\n",
    "def save_segment(audio, i, segment_length_ms, dir_n):\n",
    "    fn = f'{dir_n}/tmp{i}.wav'\n",
    "    res = audio[i:i + segment_length_ms].export(fn)\n",
    "    return fn\n",
    "\n",
    "\n",
    "def segment_audio(audio_path, segment_length_ms):\n",
    "    dir_n = audio_path.replace('.wav', '')\n",
    "    if not os.path.exists(dir_n):\n",
    "        os.mkdir(dir_n)\n",
    "    with AudioSegment.from_file(audio_path) as audio:\n",
    "        segments = [save_segment(audio, i, segment_length_ms, dir_n)\n",
    "                    for i in range(0, len(audio), segment_length_ms)]\n",
    "    return segments\n",
    "\n",
    "# Transcribe audio segment to text\n",
    "\n",
    "\n",
    "def transcribe_audio_segment(audio_segment):\n",
    "    recognizer = sr.Recognizer()\n",
    "    with sr.AudioFile(audio_segment.export(\"temp.wav\", format=\"wav\")) as source:\n",
    "        audio = recognizer.record(source)\n",
    "    os.remove(\"temp.wav\")\n",
    "    try:\n",
    "        transcription = recognizer.recognize_google(audio, language='zh-CN')\n",
    "        return transcription\n",
    "    except sr.UnknownValueError:\n",
    "        return \"\"\n",
    "    except sr.RequestError:\n",
    "        return \"\"\n",
    "\n",
    "# Translate text from Chinese to English\n",
    "\n",
    "\n",
    "def translate_text(text, src_lang='zh-CN', dest_lang='en'):\n",
    "    translator = Translator()\n",
    "    translation = translator.translate(text, src=src_lang, dest=dest_lang)\n",
    "    return translation.text\n",
    "\n",
    "# Generate SRT file\n",
    "\n",
    "\n",
    "def generate_srt(transcriptions, translations, srt_path, segment_length_ms):\n",
    "    with open(srt_path, 'w') as f:\n",
    "        for i, (transcription, translation) in enumerate(zip(transcriptions, translations)):\n",
    "            start_time = i * segment_length_ms\n",
    "            end_time = start_time + segment_length_ms\n",
    "            start_time_str = format_time(start_time)\n",
    "            end_time_str = format_time(end_time)\n",
    "            f.write(f\"{i + 1}\\n\")\n",
    "            f.write(f\"{start_time_str} --> {end_time_str}\\n\")\n",
    "            f.write(f\"{translation}\\n\\n\")\n",
    "\n",
    "# Format time in milliseconds to SRT time format\n",
    "\n",
    "\n",
    "def format_time(ms):\n",
    "    hours, ms = divmod(ms, 3600000)\n",
    "    minutes, ms = divmod(ms, 60000)\n",
    "    seconds, ms = divmod(ms, 1000)\n",
    "    return f\"{hours:02}:{minutes:02}:{seconds:02},{ms:03}\""
   ]
  },
  {
   "cell_type": "code",
   "execution_count": 20,
   "metadata": {},
   "outputs": [
    {
     "ename": "FileNotFoundError",
     "evalue": "The file at path path/to/your/audio/file.mp3 does not exist",
     "output_type": "error",
     "traceback": [
      "\u001b[0;31m---------------------------------------------------------------------------\u001b[0m",
      "\u001b[0;31mFileNotFoundError\u001b[0m                         Traceback (most recent call last)",
      "Cell \u001b[0;32mIn[20], line 52\u001b[0m\n\u001b[1;32m     50\u001b[0m \u001b[38;5;66;03m# Ensure the file exists\u001b[39;00m\n\u001b[1;32m     51\u001b[0m \u001b[38;5;28;01mif\u001b[39;00m \u001b[38;5;129;01mnot\u001b[39;00m os\u001b[38;5;241m.\u001b[39mpath\u001b[38;5;241m.\u001b[39mexists(audio_path):\n\u001b[0;32m---> 52\u001b[0m     \u001b[38;5;28;01mraise\u001b[39;00m \u001b[38;5;167;01mFileNotFoundError\u001b[39;00m(\u001b[38;5;124mf\u001b[39m\u001b[38;5;124m\"\u001b[39m\u001b[38;5;124mThe file at path \u001b[39m\u001b[38;5;132;01m{\u001b[39;00maudio_path\u001b[38;5;132;01m}\u001b[39;00m\u001b[38;5;124m does not exist\u001b[39m\u001b[38;5;124m\"\u001b[39m)\n\u001b[1;32m     54\u001b[0m \u001b[38;5;66;03m# Segment the audio file\u001b[39;00m\n\u001b[1;32m     55\u001b[0m \u001b[38;5;28;01mtry\u001b[39;00m:\n",
      "\u001b[0;31mFileNotFoundError\u001b[0m: The file at path path/to/your/audio/file.mp3 does not exist"
     ]
    }
   ],
   "source": [
    "import os\n",
    "from pydub import AudioSegment\n",
    "from pydub.exceptions import CouldntDecodeError\n",
    "import speech_recognition as sr\n",
    "\n",
    "\n",
    "def segment_audio(audio_path, segment_length_ms):\n",
    "    dir_n = \"audio_segments\"\n",
    "    if not os.path.exists(dir_n):\n",
    "        os.mkdir(dir_n)\n",
    "\n",
    "    try:\n",
    "        audio = AudioSegment.from_file(audio_path)\n",
    "    except CouldntDecodeError as e:\n",
    "        raise RuntimeError(f\"Failed to decode audio file: {e}\")\n",
    "\n",
    "    segments = []\n",
    "    for i in range(0, len(audio), segment_length_ms):\n",
    "        segment = audio[i:i+segment_length_ms]\n",
    "        segment_path = os.path.join(\n",
    "            dir_n, f\"segment_{i//segment_length_ms}.wav\")\n",
    "        segment.export(segment_path, format=\"wav\")\n",
    "        segments.append(segment_path)\n",
    "\n",
    "    return segments\n",
    "\n",
    "\n",
    "def audio_segment_to_text(audio_path):\n",
    "    # Initialize recognizer\n",
    "    recognizer = sr.Recognizer()\n",
    "\n",
    "    # Load the audio file\n",
    "    with sr.AudioFile(audio_path) as source:\n",
    "        audio_data = recognizer.record(source)\n",
    "\n",
    "        # Convert audio to text\n",
    "        try:\n",
    "            text = recognizer.recognize_google(audio_data)\n",
    "            return text\n",
    "        except sr.UnknownValueError:\n",
    "            return \"Speech Recognition could not understand the audio\"\n",
    "        except sr.RequestError as e:\n",
    "            return f\"Could not request results from Google Speech Recognition service; {e}\"\n",
    "\n",
    "\n",
    "# Example usage\n",
    "audio_path = \"path/to/your/audio/file.mp3\"  # Replace with your audio file path\n",
    "segment_length_ms = 30000  # 30-second segments\n",
    "\n",
    "# Ensure the file exists\n",
    "if not os.path.exists(audio_path):\n",
    "    raise FileNotFoundError(f\"The file at path {audio_path} does not exist\")\n",
    "\n",
    "# Segment the audio file\n",
    "try:\n",
    "    segments = segment_audio(audio_path, segment_length_ms)\n",
    "    for segment in segments:\n",
    "        transcribed_text = audio_segment_to_text(segment)\n",
    "        print(transcribed_text)\n",
    "except RuntimeError as e:\n",
    "    print(e)"
   ]
  },
  {
   "cell_type": "code",
   "execution_count": 22,
   "metadata": {},
   "outputs": [
    {
     "name": "stdout",
     "output_type": "stream",
     "text": [
      "Failed to decode audio file: Decoding failed. ffmpeg returned error code: 183\n",
      "\n",
      "Output from ffmpeg/avlib:\n",
      "\n",
      "ffmpeg version 7.0.1 Copyright (c) 2000-2024 the FFmpeg developers\n",
      "  built with Apple clang version 15.0.0 (clang-1500.3.9.4)\n",
      "  configuration: --prefix=/opt/homebrew/Cellar/ffmpeg/7.0.1 --enable-shared --enable-pthreads --enable-version3 --cc=clang --host-cflags= --host-ldflags='-Wl,-ld_classic' --enable-ffplay --enable-gnutls --enable-gpl --enable-libaom --enable-libaribb24 --enable-libbluray --enable-libdav1d --enable-libharfbuzz --enable-libjxl --enable-libmp3lame --enable-libopus --enable-librav1e --enable-librist --enable-librubberband --enable-libsnappy --enable-libsrt --enable-libssh --enable-libsvtav1 --enable-libtesseract --enable-libtheora --enable-libvidstab --enable-libvmaf --enable-libvorbis --enable-libvpx --enable-libwebp --enable-libx264 --enable-libx265 --enable-libxml2 --enable-libxvid --enable-lzma --enable-libfontconfig --enable-libfreetype --enable-frei0r --enable-libass --enable-libopencore-amrnb --enable-libopencore-amrwb --enable-libopenjpeg --enable-libspeex --enable-libsoxr --enable-libzmq --enable-libzimg --disable-libjack --disable-indev=jack --enable-videotoolbox --enable-audiotoolbox --enable-neon\n",
      "  libavutil      59.  8.100 / 59.  8.100\n",
      "  libavcodec     61.  3.100 / 61.  3.100\n",
      "  libavformat    61.  1.100 / 61.  1.100\n",
      "  libavdevice    61.  1.100 / 61.  1.100\n",
      "  libavfilter    10.  1.100 / 10.  1.100\n",
      "  libswscale      8.  1.100 /  8.  1.100\n",
      "  libswresample   5.  1.100 /  5.  1.100\n",
      "  libpostproc    58.  1.100 / 58.  1.100\n",
      "[in#0 @ 0x14e706430] Error opening input: Invalid data found when processing input\n",
      "Error opening input file downloadss/The Queen of SOP 2 EP 29 胜女的代价【主演：郑爽、张翰】 [o2tJaNg_QUE].wav.\n",
      "Error opening input files: Invalid data found when processing input\n",
      "\n"
     ]
    }
   ],
   "source": [
    "# Paths\n",
    "video_path = files[10]\n",
    "audio_path = video_path.replace('.mp4', '.wav')\n",
    "srt_path = video_path.replace('.mp4', '.srt')\n",
    "segment_length_ms = 30000  # 1/2 minute segments\n",
    "# Segment the audio file\n",
    "try:\n",
    "    segments = segment_audio(audio_path, segment_length_ms)\n",
    "    for segment in segments:\n",
    "        transcribed_text = audio_segment_to_text(segment)\n",
    "        print(transcribed_text)\n",
    "except RuntimeError as e:\n",
    "    print(e)"
   ]
  },
  {
   "cell_type": "code",
   "execution_count": null,
   "metadata": {},
   "outputs": [],
   "source": [
    "transcribe_audio_segment(segments[0])"
   ]
  },
  {
   "cell_type": "code",
   "execution_count": null,
   "metadata": {},
   "outputs": [],
   "source": [
    "# Paths\n",
    "video_path = files[0]\n",
    "audio_path = video_path.replace('.mp4', '.wav')\n",
    "srt_path = video_path.replace('.mp4', '.srt')\n",
    "segment_length_ms = 60000  # 1 minute segments\n",
    "\n",
    "# Workflow\n",
    "extract_audio(video_path, audio_path)\n",
    "segments = segment_audio(audio_path, segment_length_ms)\n",
    "\n",
    "transcriptions = [transcribe_audio_segment(segment) for segment in segments]\n",
    "translations = [translate_text(transcription)\n",
    "                for transcription in transcriptions]\n",
    "\n",
    "generate_srt(transcriptions, translations, srt_path, segment_length_ms)\n",
    "\n",
    "# Clean up\n",
    "os.remove(audio_path)\n",
    "\n",
    "print(\"Subtitle generation complete!\")"
   ]
  },
  {
   "cell_type": "code",
   "execution_count": 17,
   "metadata": {},
   "outputs": [
    {
     "ename": "NameError",
     "evalue": "name 'segments' is not defined",
     "output_type": "error",
     "traceback": [
      "\u001b[0;31m---------------------------------------------------------------------------\u001b[0m",
      "\u001b[0;31mNameError\u001b[0m                                 Traceback (most recent call last)",
      "Cell \u001b[0;32mIn[17], line 1\u001b[0m\n\u001b[0;32m----> 1\u001b[0m s \u001b[38;5;241m=\u001b[39m \u001b[43msegments\u001b[49m[\u001b[38;5;241m0\u001b[39m]\n",
      "\u001b[0;31mNameError\u001b[0m: name 'segments' is not defined"
     ]
    }
   ],
   "source": [
    "s = segments[0]"
   ]
  },
  {
   "cell_type": "code",
   "execution_count": null,
   "metadata": {},
   "outputs": [],
   "source": [
    "recognizer = sr.Recognizer()\n",
    "s.export('tmp.wav')\n",
    "\n",
    "recognizer.listen(s)"
   ]
  },
  {
   "cell_type": "code",
   "execution_count": null,
   "metadata": {},
   "outputs": [],
   "source": []
  }
 ],
 "metadata": {
  "kernelspec": {
   "display_name": ".you",
   "language": "python",
   "name": "python3"
  },
  "language_info": {
   "codemirror_mode": {
    "name": "ipython",
    "version": 3
   },
   "file_extension": ".py",
   "mimetype": "text/x-python",
   "name": "python",
   "nbconvert_exporter": "python",
   "pygments_lexer": "ipython3",
   "version": "3.12.3"
  }
 },
 "nbformat": 4,
 "nbformat_minor": 2
}
